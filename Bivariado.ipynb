{
 "cells": [
  {
   "cell_type": "markdown",
   "id": "3878689a",
   "metadata": {},
   "source": [
    "## **Análisis Bivariado**"
   ]
  },
  {
   "cell_type": "markdown",
   "id": "a6910254",
   "metadata": {},
   "source": [
    "#### 📘 **Importación de librerías** \n",
    "Importamos las librerías que necesitaremos en nuestro análisis **bivariado**"
   ]
  },
  {
   "cell_type": "code",
   "execution_count": 11,
   "id": "5213eb7d",
   "metadata": {},
   "outputs": [],
   "source": [
    "import numpy as np\n",
    "import pandas as pd\n",
    "import matplotlib.pyplot as plt\n",
    "from scipy.stats import chi2_contingency\n",
    "import plotly.express as px\n",
    "import seaborn as sns\n",
    "import plotly.io as pio"
   ]
  },
  {
   "cell_type": "markdown",
   "id": "c996a44b",
   "metadata": {},
   "source": [
    "#### 🛜 **Importación del dataset Telco preparado**\n",
    "\n",
    "Este dataset proviene de la cartera morosa de una empresa de telecomunicaciones que da servicio al Valle y al Tolima y se le realizó una preparación previa en el archivo `Univariado.ipynb` "
   ]
  },
  {
   "cell_type": "code",
   "execution_count": 12,
   "id": "cd54d5de",
   "metadata": {},
   "outputs": [
    {
     "name": "stdout",
     "output_type": "stream",
     "text": [
      "<class 'pandas.core.frame.DataFrame'>\n",
      "RangeIndex: 75882 entries, 0 to 75881\n",
      "Data columns (total 24 columns):\n",
      " #   Column                    Non-Null Count  Dtype  \n",
      "---  ------                    --------------  -----  \n",
      " 0   TARIFA_PS                 75882 non-null  object \n",
      " 1   ESTADO_CLIENTE            75882 non-null  object \n",
      " 2   ESTADO_SUMINISTRO         75882 non-null  object \n",
      " 3   ESTADO_FACTURACION        75882 non-null  object \n",
      " 4   DEUDA                     75882 non-null  int64  \n",
      " 5   ANTIGUEDAD_SALDO          75882 non-null  int64  \n",
      " 6   CICLO                     75882 non-null  int64  \n",
      " 7   ZONA                      75882 non-null  float64\n",
      " 8   CLASE_SERVICIO            75882 non-null  object \n",
      " 9   ESTRATO                   75882 non-null  int64  \n",
      " 10  DEPTO                     75882 non-null  object \n",
      " 11  MUNICIPIO                 75882 non-null  object \n",
      " 12  BARRIO                    75882 non-null  object \n",
      " 13  TOTAL_FACTURADO           75882 non-null  float64\n",
      " 14  FECHA_FACTURACION         75882 non-null  object \n",
      " 15  FECHA_VENCIMIENTO         75882 non-null  object \n",
      " 16  FECHA_ULT_PAGO            75882 non-null  object \n",
      " 17  VALOR_ULT_PAGO            75882 non-null  float64\n",
      " 18  TOTAL_FACTURADO_NULL      75882 non-null  int64  \n",
      " 19  FACTURA_NULL              75882 non-null  int64  \n",
      " 20  FACTURA_VENCIMIENTO_NULL  75882 non-null  int64  \n",
      " 21  PAGO_NULL                 75882 non-null  int64  \n",
      " 22  zscore                    75882 non-null  float64\n",
      " 23  abs_zscore                75882 non-null  float64\n",
      "dtypes: float64(5), int64(8), object(11)\n",
      "memory usage: 13.9+ MB\n"
     ]
    }
   ],
   "source": [
    "## Cargar datos \n",
    "df = pd.read_csv(\"./data/dataset_deudamorosa.csv\", sep=';')\n",
    "\n",
    "## respaldo - backup \n",
    "df_original = df.copy()\n",
    "\n",
    "df.info()"
   ]
  },
  {
   "cell_type": "markdown",
   "id": "8ad20ca9",
   "metadata": {},
   "source": [
    "#### **Variable Categórica `ES_MOROSO`** \n",
    "El análisis en el archivo **Univariado.ipynb** fue fundamental para:  \n",
    "\n",
    "- **Eliminar sesgos críticos**  \n",
    "Se filtraron una cantidad masiva de valores de deudas en cero o negativas, ya que no representan cartera a recuperar. Al igual que outliers atípicos de deudas extremadamente grandes. \n",
    "\n",
    "- **Distribución representativa**  \n",
    "Al depurar los datos, la distribución de la deuda restante refleja mejor la distribución de los datos objetivos reales para estrategias de recaudo: **clientes con deuda a recuperar.** \n",
    "\n",
    "No obstante, de acuerdo a las reglas de negocio, un cliente se califica como **moroso** y candidato a **suspensión del servicio** cuando su **`ANTIGUEDAD_SALDO`** es mayor a 2 meses, es decir, cuando lleva más de dos meses sin pagar sus facturas. \n",
    "\n",
    "Por esa razón, se crea la variable binaria **`ES_MOROSO`** para clasificar el estado real de morosidad. \n"
   ]
  },
  {
   "cell_type": "code",
   "execution_count": 13,
   "id": "6f3a5a25",
   "metadata": {},
   "outputs": [
    {
     "data": {
      "text/plain": [
       "ANTIGUEDAD_SALDO\n",
       "1     32393\n",
       "2     11514\n",
       "3      6781\n",
       "9      3971\n",
       "8      3877\n",
       "4      3844\n",
       "5      2951\n",
       "7      2887\n",
       "6      2882\n",
       "10     2267\n",
       "0       976\n",
       "11      836\n",
       "12      360\n",
       "13      197\n",
       "14       89\n",
       "15       33\n",
       "16       17\n",
       "17        3\n",
       "20        1\n",
       "24        1\n",
       "18        1\n",
       "21        1\n",
       "Name: count, dtype: int64"
      ]
     },
     "execution_count": 13,
     "metadata": {},
     "output_type": "execute_result"
    }
   ],
   "source": [
    "## Visualización de los valores de antiguedad saldo\n",
    "df['ANTIGUEDAD_SALDO'].value_counts()"
   ]
  },
  {
   "cell_type": "code",
   "execution_count": 14,
   "id": "3fc39702",
   "metadata": {},
   "outputs": [
    {
     "data": {
      "text/plain": [
       "ES_MOROSO\n",
       "0    44883\n",
       "1    30999\n",
       "Name: count, dtype: int64"
      ]
     },
     "execution_count": 14,
     "metadata": {},
     "output_type": "execute_result"
    }
   ],
   "source": [
    "df['ES_MOROSO'] = (df['ANTIGUEDAD_SALDO'] > 2).astype(int)\n",
    "df['ES_MOROSO'].value_counts()"
   ]
  },
  {
   "cell_type": "code",
   "execution_count": 15,
   "id": "d4db2531",
   "metadata": {},
   "outputs": [
    {
     "data": {
      "text/plain": [
       "count    75882.000000\n",
       "mean         0.408516\n",
       "std          0.491563\n",
       "min          0.000000\n",
       "25%          0.000000\n",
       "50%          0.000000\n",
       "75%          1.000000\n",
       "max          1.000000\n",
       "Name: ES_MOROSO, dtype: float64"
      ]
     },
     "execution_count": 15,
     "metadata": {},
     "output_type": "execute_result"
    }
   ],
   "source": [
    "df['ES_MOROSO'].describe()"
   ]
  },
  {
   "cell_type": "code",
   "execution_count": 16,
   "id": "92690b83",
   "metadata": {},
   "outputs": [
    {
     "data": {
      "image/png": "[encoded data removed]",
      "text/plain": [
       "<Figure size 600x400 with 1 Axes>"
      ]
     },
     "metadata": {},
     "output_type": "display_data"
    }
   ],
   "source": [
    "counts = [(df[\"ES_MOROSO\"] == 1).sum(), (df[\"ES_MOROSO\"] == 0).sum()]\n",
    "total = sum(counts)\n",
    "percentages = [f'{(count/total)*100:.0f}%' for count in counts]\n",
    "\n",
    "plt.figure(figsize=(6, 4))\n",
    "plt.title(\"Distribución Morosidad\", fontsize=12, fontweight='bold')\n",
    "\n",
    "wedges, texts, autotexts = plt.pie(\n",
    "    counts, \n",
    "    labels=[\"Moroso\", \"No Moroso\"], \n",
    "    autopct=lambda p: f'{p:.0f}%',\n",
    "    colors=['#000000', '#ff7701']\n",
    ")\n",
    "\n",
    "for autotext in autotexts:\n",
    "    autotext.set_color('white')\n",
    "    autotext.set_fontweight('bold')\n",
    "    autotext.set_fontsize(12)\n",
    "\n",
    "plt.grid(True, alpha=0.3)\n",
    "plt.show()"
   ]
  },
  {
   "cell_type": "markdown",
   "id": "69d9a6e4",
   "metadata": {},
   "source": [
    "#### **Interpretación de `ES_MOROSO`**  \n",
    "- **Media: 0.4085:**  \n",
    "El **40.85%** de los clientes con deuda activa son clientes morosos (candidatos a suspensión o que ya se encuentran suspendidos). \n",
    "\n",
    "- **Desviación estándar: 0.49**  \n",
    "**Std < 0.5** indica que los datos están dispersos y que es una buena muestra (no existen sesgos). \n",
    "\n"
   ]
  },
  {
   "cell_type": "markdown",
   "id": "fcf21294",
   "metadata": {},
   "source": [
    "---\n",
    "#### **Análisis Bivariado** **`ES_MOROSO`** y **`MUNICIPIO`**  \n",
    "\n",
    "Seleccionamos la feature **municipio** ya que es relevante para dar respuesta a nuestra pregunta **SMART**, que está relacionada con reconocer zonas geograficas que concentren almenos 60%. \n",
    "\n"
   ]
  },
  {
   "cell_type": "markdown",
   "id": "c7c368e6",
   "metadata": {},
   "source": [
    "#### **Tabla de contingencia**  \n",
    "Realizamos tabla de contingencia entre las dos variables"
   ]
  },
  {
   "cell_type": "code",
   "execution_count": 17,
   "id": "56466a49",
   "metadata": {},
   "outputs": [
    {
     "name": "stdout",
     "output_type": "stream",
     "text": [
      "Tabla de contingencia - Ordenada\n",
      "ES_MOROSO                      0     1\n",
      "MUNICIPIO                             \n",
      "73001-IBAGUÉ               13818  7097\n",
      "76520-PALMIRA               7293  5019\n",
      "76834-TULUÁ                 3144  3487\n",
      "76130-CANDELARIA            3104  2444\n",
      "76364-JAMUNDÍ               2898  2258\n",
      "76111-GUADALAJARA DE BUGA   2474  1773\n",
      "73449-MELGAR                2025  1490\n",
      "73268-ESPINAL               2132  1052\n",
      "76248-EL CERRITO            1321   934\n",
      "76563-PRADERA                974   813\n",
      "76147-CARTAGO                405   558\n",
      "76895-ZARZAL                 381   452\n",
      "76892-YUMBO                  716   427\n",
      "76318-GUACARÍ                389   420\n",
      "73585-PURIFICACIÓN           677   369\n",
      "76109-BUENAVENTURA           321   341\n",
      "76622-ROLDANILLO             353   316\n",
      "73148-CARMEN DE APICALÁ      300   303\n",
      "76306-GINEBRA                264   239\n",
      "76736-SEVILLA                187   215\n",
      "76400-LA UNIÓN               176   197\n",
      "73124-CAJAMARCA              170   174\n",
      "76616-RIOFRÍO                150   149\n",
      "76670-SAN PEDRO              142   115\n",
      "76122-CAICEDONIA              81    79\n",
      "76113-BUGALAGRANDE            66    59\n",
      "76403-LA VICTORIA             42    56\n",
      "73319-GUAMO                   54    48\n",
      "73168-CHAPARRAL              732    38\n",
      "76036-ANDALUCÍA               35    37\n",
      "76100-BOLÍVAR                 42    24\n",
      "76823-TORO                    16    16\n",
      "73217-COYAIMA                  1     0\n"
     ]
    }
   ],
   "source": [
    "tabla_contingencia = pd.crosstab(df['MUNICIPIO'], df['ES_MOROSO'])\n",
    "tabla_ordenada = tabla_contingencia.sort_values(by=1, ascending=False)\n",
    "print(\"Tabla de contingencia - Ordenada\")\n",
    "print(tabla_ordenada)"
   ]
  },
  {
   "cell_type": "markdown",
   "id": "b8469c16",
   "metadata": {},
   "source": [
    "#### **Correlación: Chi-Cuadrado y P-value**"
   ]
  },
  {
   "cell_type": "code",
   "execution_count": 18,
   "id": "3844560b",
   "metadata": {},
   "outputs": [
    {
     "name": "stdout",
     "output_type": "stream",
     "text": [
      "=== Resultados Chi-Cuadrado ===\n",
      "Chi2: 1757.8635\n",
      "Grados de libertad: 32\n",
      "P-value: 0.000000\n"
     ]
    }
   ],
   "source": [
    "contingencia = pd.crosstab(df['MUNICIPIO'], df['ES_MOROSO'])\n",
    "chi2, p, dof, expected = chi2_contingency(contingencia)\n",
    "\n",
    "print(\"=== Resultados Chi-Cuadrado ===\")\n",
    "print(f\"Chi2: {chi2:.4f}\")\n",
    "print(f\"Grados de libertad: {dof}\")\n",
    "print(f\"P-value: {p:.6f}\")"
   ]
  },
  {
   "cell_type": "markdown",
   "id": "ec80f478",
   "metadata": {},
   "source": [
    "**P-value < 0.05:** Existe una relación significativa entre **`MUNICIPIO`** y **`ES_MOROSO`** "
   ]
  },
  {
   "cell_type": "markdown",
   "id": "fc5390e3",
   "metadata": {},
   "source": [
    "#### **Gráfico de barras** \n"
   ]
  },
  {
   "cell_type": "code",
   "execution_count": 19,
   "id": "3e5ffb2b",
   "metadata": {},
   "outputs": [
    {
     "ename": "KeyError",
     "evalue": "'MOROSO'",
     "output_type": "error",
     "traceback": [
      "\u001b[31m---------------------------------------------------------------------------\u001b[39m",
      "\u001b[31mKeyError\u001b[39m                                  Traceback (most recent call last)",
      "\u001b[36mCell\u001b[39m\u001b[36m \u001b[39m\u001b[32mIn[19]\u001b[39m\u001b[32m, line 1\u001b[39m\n\u001b[32m----> \u001b[39m\u001b[32m1\u001b[39m municipio_morosidad = \u001b[43mdf\u001b[49m\u001b[43m.\u001b[49m\u001b[43mgroupby\u001b[49m\u001b[43m(\u001b[49m\u001b[43m[\u001b[49m\u001b[33;43m'\u001b[39;49m\u001b[33;43mMUNICIPIO\u001b[39;49m\u001b[33;43m'\u001b[39;49m\u001b[43m,\u001b[49m\u001b[43m \u001b[49m\u001b[33;43m'\u001b[39;49m\u001b[33;43mMOROSO\u001b[39;49m\u001b[33;43m'\u001b[39;49m\u001b[43m]\u001b[49m\u001b[43m)\u001b[49m.size().reset_index(name=\u001b[33m'\u001b[39m\u001b[33mcount\u001b[39m\u001b[33m'\u001b[39m)\n\u001b[32m      3\u001b[39m plt.figure(figsize=(\u001b[32m14\u001b[39m,\u001b[32m7\u001b[39m))\n\u001b[32m      4\u001b[39m sns.barplot(data=municipio_morosidad, x=\u001b[33m'\u001b[39m\u001b[33mMUNICIPIO\u001b[39m\u001b[33m'\u001b[39m, y=\u001b[33m'\u001b[39m\u001b[33mcount\u001b[39m\u001b[33m'\u001b[39m, hue=\u001b[33m'\u001b[39m\u001b[33mMOROSO\u001b[39m\u001b[33m'\u001b[39m)\n",
      "\u001b[36mFile \u001b[39m\u001b[32mc:\\Users\\JulianAndresSalamanc\\AppData\\Local\\Programs\\Python\\Python311\\Lib\\site-packages\\pandas\\core\\frame.py:9183\u001b[39m, in \u001b[36mDataFrame.groupby\u001b[39m\u001b[34m(self, by, axis, level, as_index, sort, group_keys, observed, dropna)\u001b[39m\n\u001b[32m   9180\u001b[39m \u001b[38;5;28;01mif\u001b[39;00m level \u001b[38;5;129;01mis\u001b[39;00m \u001b[38;5;28;01mNone\u001b[39;00m \u001b[38;5;129;01mand\u001b[39;00m by \u001b[38;5;129;01mis\u001b[39;00m \u001b[38;5;28;01mNone\u001b[39;00m:\n\u001b[32m   9181\u001b[39m     \u001b[38;5;28;01mraise\u001b[39;00m \u001b[38;5;167;01mTypeError\u001b[39;00m(\u001b[33m\"\u001b[39m\u001b[33mYou have to supply one of \u001b[39m\u001b[33m'\u001b[39m\u001b[33mby\u001b[39m\u001b[33m'\u001b[39m\u001b[33m and \u001b[39m\u001b[33m'\u001b[39m\u001b[33mlevel\u001b[39m\u001b[33m'\u001b[39m\u001b[33m\"\u001b[39m)\n\u001b[32m-> \u001b[39m\u001b[32m9183\u001b[39m \u001b[38;5;28;01mreturn\u001b[39;00m \u001b[43mDataFrameGroupBy\u001b[49m\u001b[43m(\u001b[49m\n\u001b[32m   9184\u001b[39m \u001b[43m    \u001b[49m\u001b[43mobj\u001b[49m\u001b[43m=\u001b[49m\u001b[38;5;28;43mself\u001b[39;49m\u001b[43m,\u001b[49m\n\u001b[32m   9185\u001b[39m \u001b[43m    \u001b[49m\u001b[43mkeys\u001b[49m\u001b[43m=\u001b[49m\u001b[43mby\u001b[49m\u001b[43m,\u001b[49m\n\u001b[32m   9186\u001b[39m \u001b[43m    \u001b[49m\u001b[43maxis\u001b[49m\u001b[43m=\u001b[49m\u001b[43maxis\u001b[49m\u001b[43m,\u001b[49m\n\u001b[32m   9187\u001b[39m \u001b[43m    \u001b[49m\u001b[43mlevel\u001b[49m\u001b[43m=\u001b[49m\u001b[43mlevel\u001b[49m\u001b[43m,\u001b[49m\n\u001b[32m   9188\u001b[39m \u001b[43m    \u001b[49m\u001b[43mas_index\u001b[49m\u001b[43m=\u001b[49m\u001b[43mas_index\u001b[49m\u001b[43m,\u001b[49m\n\u001b[32m   9189\u001b[39m \u001b[43m    \u001b[49m\u001b[43msort\u001b[49m\u001b[43m=\u001b[49m\u001b[43msort\u001b[49m\u001b[43m,\u001b[49m\n\u001b[32m   9190\u001b[39m \u001b[43m    \u001b[49m\u001b[43mgroup_keys\u001b[49m\u001b[43m=\u001b[49m\u001b[43mgroup_keys\u001b[49m\u001b[43m,\u001b[49m\n\u001b[32m   9191\u001b[39m \u001b[43m    \u001b[49m\u001b[43mobserved\u001b[49m\u001b[43m=\u001b[49m\u001b[43mobserved\u001b[49m\u001b[43m,\u001b[49m\n\u001b[32m   9192\u001b[39m \u001b[43m    \u001b[49m\u001b[43mdropna\u001b[49m\u001b[43m=\u001b[49m\u001b[43mdropna\u001b[49m\u001b[43m,\u001b[49m\n\u001b[32m   9193\u001b[39m \u001b[43m\u001b[49m\u001b[43m)\u001b[49m\n",
      "\u001b[36mFile \u001b[39m\u001b[32mc:\\Users\\JulianAndresSalamanc\\AppData\\Local\\Programs\\Python\\Python311\\Lib\\site-packages\\pandas\\core\\groupby\\groupby.py:1329\u001b[39m, in \u001b[36mGroupBy.__init__\u001b[39m\u001b[34m(self, obj, keys, axis, level, grouper, exclusions, selection, as_index, sort, group_keys, observed, dropna)\u001b[39m\n\u001b[32m   1326\u001b[39m \u001b[38;5;28mself\u001b[39m.dropna = dropna\n\u001b[32m   1328\u001b[39m \u001b[38;5;28;01mif\u001b[39;00m grouper \u001b[38;5;129;01mis\u001b[39;00m \u001b[38;5;28;01mNone\u001b[39;00m:\n\u001b[32m-> \u001b[39m\u001b[32m1329\u001b[39m     grouper, exclusions, obj = \u001b[43mget_grouper\u001b[49m\u001b[43m(\u001b[49m\n\u001b[32m   1330\u001b[39m \u001b[43m        \u001b[49m\u001b[43mobj\u001b[49m\u001b[43m,\u001b[49m\n\u001b[32m   1331\u001b[39m \u001b[43m        \u001b[49m\u001b[43mkeys\u001b[49m\u001b[43m,\u001b[49m\n\u001b[32m   1332\u001b[39m \u001b[43m        \u001b[49m\u001b[43maxis\u001b[49m\u001b[43m=\u001b[49m\u001b[43maxis\u001b[49m\u001b[43m,\u001b[49m\n\u001b[32m   1333\u001b[39m \u001b[43m        \u001b[49m\u001b[43mlevel\u001b[49m\u001b[43m=\u001b[49m\u001b[43mlevel\u001b[49m\u001b[43m,\u001b[49m\n\u001b[32m   1334\u001b[39m \u001b[43m        \u001b[49m\u001b[43msort\u001b[49m\u001b[43m=\u001b[49m\u001b[43msort\u001b[49m\u001b[43m,\u001b[49m\n\u001b[32m   1335\u001b[39m \u001b[43m        \u001b[49m\u001b[43mobserved\u001b[49m\u001b[43m=\u001b[49m\u001b[38;5;28;43;01mFalse\u001b[39;49;00m\u001b[43m \u001b[49m\u001b[38;5;28;43;01mif\u001b[39;49;00m\u001b[43m \u001b[49m\u001b[43mobserved\u001b[49m\u001b[43m \u001b[49m\u001b[38;5;129;43;01mis\u001b[39;49;00m\u001b[43m \u001b[49m\u001b[43mlib\u001b[49m\u001b[43m.\u001b[49m\u001b[43mno_default\u001b[49m\u001b[43m \u001b[49m\u001b[38;5;28;43;01melse\u001b[39;49;00m\u001b[43m \u001b[49m\u001b[43mobserved\u001b[49m\u001b[43m,\u001b[49m\n\u001b[32m   1336\u001b[39m \u001b[43m        \u001b[49m\u001b[43mdropna\u001b[49m\u001b[43m=\u001b[49m\u001b[38;5;28;43mself\u001b[39;49m\u001b[43m.\u001b[49m\u001b[43mdropna\u001b[49m\u001b[43m,\u001b[49m\n\u001b[32m   1337\u001b[39m \u001b[43m    \u001b[49m\u001b[43m)\u001b[49m\n\u001b[32m   1339\u001b[39m \u001b[38;5;28;01mif\u001b[39;00m observed \u001b[38;5;129;01mis\u001b[39;00m lib.no_default:\n\u001b[32m   1340\u001b[39m     \u001b[38;5;28;01mif\u001b[39;00m \u001b[38;5;28many\u001b[39m(ping._passed_categorical \u001b[38;5;28;01mfor\u001b[39;00m ping \u001b[38;5;129;01min\u001b[39;00m grouper.groupings):\n",
      "\u001b[36mFile \u001b[39m\u001b[32mc:\\Users\\JulianAndresSalamanc\\AppData\\Local\\Programs\\Python\\Python311\\Lib\\site-packages\\pandas\\core\\groupby\\grouper.py:1043\u001b[39m, in \u001b[36mget_grouper\u001b[39m\u001b[34m(obj, key, axis, level, sort, observed, validate, dropna)\u001b[39m\n\u001b[32m   1041\u001b[39m         in_axis, level, gpr = \u001b[38;5;28;01mFalse\u001b[39;00m, gpr, \u001b[38;5;28;01mNone\u001b[39;00m\n\u001b[32m   1042\u001b[39m     \u001b[38;5;28;01melse\u001b[39;00m:\n\u001b[32m-> \u001b[39m\u001b[32m1043\u001b[39m         \u001b[38;5;28;01mraise\u001b[39;00m \u001b[38;5;167;01mKeyError\u001b[39;00m(gpr)\n\u001b[32m   1044\u001b[39m \u001b[38;5;28;01melif\u001b[39;00m \u001b[38;5;28misinstance\u001b[39m(gpr, Grouper) \u001b[38;5;129;01mand\u001b[39;00m gpr.key \u001b[38;5;129;01mis\u001b[39;00m \u001b[38;5;129;01mnot\u001b[39;00m \u001b[38;5;28;01mNone\u001b[39;00m:\n\u001b[32m   1045\u001b[39m     \u001b[38;5;66;03m# Add key to exclusions\u001b[39;00m\n\u001b[32m   1046\u001b[39m     exclusions.add(gpr.key)\n",
      "\u001b[31mKeyError\u001b[39m: 'MOROSO'"
     ]
    }
   ],
   "source": [
    "municipio_morosidad = df.groupby(['MUNICIPIO', 'MOROSO']).size().reset_index(name='count')\n",
    "\n",
    "plt.figure(figsize=(14,7))\n",
    "sns.barplot(data=municipio_morosidad, x='MUNICIPIO', y='count', hue='MOROSO')\n",
    "\n",
    "plt.title(\"Clientes morosos vs no morosos por municipio\", fontsize=16)\n",
    "plt.xlabel(\"Municipio\")\n",
    "plt.ylabel(\"Número de clientes\")\n",
    "plt.xticks(rotation=45, ha='right')\n",
    "plt.legend(title=\"Estado del cliente\")\n",
    "plt.tight_layout()\n",
    "plt.show()\n"
   ]
  },
  {
   "cell_type": "markdown",
   "id": "6ef60e5b",
   "metadata": {},
   "source": [
    "#### **Extraemos el top 10 municipios con mayor porcentajes**  \n",
    "Al haber tantos municipios, para no tener gráficos saturados de información, vamos a extraer los 10 municipios con mayores porcentajes de morosidad. "
   ]
  },
  {
   "cell_type": "code",
   "execution_count": null,
   "id": "2a0622a2",
   "metadata": {},
   "outputs": [],
   "source": [
    "top_municipios_morosidad = df.groupby('MUNICIPIO').agg(\n",
    "    TOTAL_CLIENTES=('ES_MOROSO', 'count'),\n",
    "    TOTAL_MOROSOS=('ES_MOROSO', 'sum'),\n",
    "    PORCENTAJE_MOROSIDAD=('ES_MOROSO', 'mean')\n",
    ").reset_index()\n",
    "\n",
    "top_municipios_morosidad['PORCENTAJE_MOROSIDAD'] = top_municipios_morosidad['PORCENTAJE_MOROSIDAD'] * 100\n",
    "top_10_morosos = top_municipios_morosidad.nlargest(10, 'TOTAL_MOROSOS')"
   ]
  },
  {
   "cell_type": "code",
   "execution_count": null,
   "id": "6484b20c",
   "metadata": {},
   "outputs": [
    {
     "data": {
      "image/png": "[encoded data removed]",
      "text/plain": [
       "<Figure size 1400x700 with 1 Axes>"
      ]
     },
     "metadata": {},
     "output_type": "display_data"
    }
   ],
   "source": [
    "## cambiar \n",
    "df = pd.read_csv(\"./data/dataset_deudamorosa.csv\", sep=';')\n",
    "\n",
    "df['ES_MOROSO'] = df['DEUDA'].apply(lambda x: 1 if x > 0 else 0)\n",
    "\n",
    "top_municipios_morosidad = df.groupby('MUNICIPIO').agg(\n",
    "    TOTAL_CLIENTES=('ES_MOROSO', 'count'),\n",
    "    TOTAL_MOROSOS=('ES_MOROSO', 'sum'),\n",
    "    PORCENTAJE_MOROSIDAD=('ES_MOROSO', 'mean')\n",
    ").reset_index()\n",
    "\n",
    "top_municipios_morosidad['PORCENTAJE_MOROSIDAD'] *= 100\n",
    "\n",
    "top_10_morosos = top_municipios_morosidad.nlargest(10, 'TOTAL_MOROSOS')\n",
    "\n",
    "df_top10 = df[df['MUNICIPIO'].isin(top_10_morosos['MUNICIPIO'])].copy()\n",
    "\n",
    "df_top10['MOROSO'] = df_top10['ES_MOROSO'].apply(lambda x: 'Moroso' if x == 1 else 'No Moroso')\n",
    "\n",
    "municipio_morosidad_top10 = df_top10.groupby(['MUNICIPIO', 'MOROSO']).size().reset_index(name='count')\n",
    "\n",
    "# Creamos gráfico de barras\n",
    "plt.figure(figsize=(14,7))\n",
    "sns.barplot(data=municipio_morosidad_top10, x='MUNICIPIO', y='count', hue='MOROSO')\n",
    "\n",
    "plt.title(\"Top 10 municipios: clientes morosos vs no morosos\", fontsize=16)\n",
    "plt.xlabel(\"Municipio\")\n",
    "plt.ylabel(\"Número de clientes\")\n",
    "plt.xticks(rotation=45, ha='right')\n",
    "plt.legend(title=\"Estado del cliente\")\n",
    "plt.tight_layout()\n",
    "plt.show()"
   ]
  },
  {
   "cell_type": "markdown",
   "id": "4ca4c02e",
   "metadata": {},
   "source": [
    "#### **Bubble Map**  \n",
    "Se importa dataset **`DIVIPOLA.csv`** el cual trae información de las coordenadas de cada municipio."
   ]
  },
  {
   "cell_type": "code",
   "execution_count": 25,
   "id": "8c6eb0c1",
   "metadata": {},
   "outputs": [],
   "source": [
    "df_temp = df.copy()\n",
    "divipola = pd.read_csv(\"./data/DIVIPOLA.csv\", sep=',')\n",
    "pio.renderers.default = \"notebook\""
   ]
  },
  {
   "cell_type": "markdown",
   "id": "643d6426",
   "metadata": {},
   "source": [
    "Se crea `df_merged`, dataframe que tendrá la misma info de los clientes morosos + las longitudes y latitudes de cada municipio "
   ]
  },
  {
   "cell_type": "code",
   "execution_count": 26,
   "id": "1092586d",
   "metadata": {},
   "outputs": [],
   "source": [
    "\n",
    "df_temp[['COD_MPIO', 'NOM_MPIO']] = df_temp['MUNICIPIO'].str.split('-', n=1, expand=True)\n",
    "df_temp['COD_MPIO'] = df_temp['COD_MPIO'].astype(int)\n",
    "\n",
    "df_merged = df_temp.merge(divipola[['COD_MPIO','LATITUD','LONGITUD']], on='COD_MPIO', how='left')"
   ]
  },
  {
   "cell_type": "markdown",
   "id": "5d00817b",
   "metadata": {},
   "source": [
    "Se crea `df_plot` para agrupar por municipios el conteo total de clientes, el total de morosos y el porcentaje de morosidad."
   ]
  },
  {
   "cell_type": "code",
   "execution_count": 54,
   "id": "7a44f511",
   "metadata": {},
   "outputs": [],
   "source": [
    "df_plot = (\n",
    "    df_merged\n",
    "      .groupby(['COD_MPIO','NOM_MPIO','LATITUD','LONGITUD'], as_index=False)\n",
    "      .agg(\n",
    "          TOTAL_CLIENTES   = ('ES_MOROSO', 'count'),\n",
    "          TOTAL_MOROSOS    = ('ES_MOROSO', 'sum'),\n",
    "          PORCENTAJE_MOROSIDAD = ('ES_MOROSO', 'mean'),\n",
    "      )\n",
    ")\n",
    "\n",
    "df_plot['PORCENTAJE_MOROSIDAD'] *= 100\n",
    "\n",
    "df_plot['LATITUD'] = pd.to_numeric(df_plot['LATITUD'], errors='coerce')\n",
    "df_plot['LONGITUD'] = pd.to_numeric(df_plot['LONGITUD'], errors='coerce')\n",
    "df_plot = df_plot.dropna(subset=['LATITUD','LONGITUD'])"
   ]
  },
  {
   "cell_type": "markdown",
   "id": "f3f9d1b0",
   "metadata": {},
   "source": [
    "Se grafica con la libreria ploty"
   ]
  },
  {
   "cell_type": "code",
   "execution_count": 56,
   "id": "37a80014",
   "metadata": {},
   "outputs": [
    {
     "data": {
      "text/html": [
       "<div>            <script src=\"https://cdnjs.cloudflare.com/ajax/libs/mathjax/2.7.5/MathJax.js?config=TeX-AMS-MML_SVG\"></script><script type=\"text/javascript\">if (window.MathJax && window.MathJax.Hub && window.MathJax.Hub.Config) {window.MathJax.Hub.Config({SVG: {font: \"STIX-Web\"}});}</script>                    <div id=\"7ed833dd-5c55-458b-97c2-72016f918167\" class=\"plotly-graph-div\" style=\"height:800px; width:1000px;\"></div>            <script type=\"text/javascript\">                window.PLOTLYENV=window.PLOTLYENV || {};                                if (document.getElementById(\"7ed833dd-5c55-458b-97c2-72016f918167\")) {                    Plotly.newPlot(                        \"7ed833dd-5c55-458b-97c2-72016f918167\",                        [{\"customdata\":{\"dtype\":\"f8\",\"bdata\":\"AAAAAAC5u0AAAAAAwGzUQK973ete90BAfk6VfcTOEUDkEHFzKtBSwAAAAAAAwGVAAAAAAACAdUCzpqwpa0pJQKuVexS9oBFAe0wHX9bfUsAAAAAAAPByQAAAAAAA2IJAFXBoPtcfSUBjNen4YH4QQNLuZ+POr1LAAAAAAAAAQ0AAAAAAABCIQAf2jqmBvRNAv1QQXBXzDUDr079ewOVSwAAAAAAAAAAAAAAAAAAA8D8AAAAAAAAAAEp9Qj40NA5AGZB7wmvJUsAAAAAAAHCQQAAAAAAA4KhAtOx4TiWFQECekUXweKoQQLV9+pUvuVLAAAAAAAAASEAAAAAAAIBZQIeHh4eHh0dA1McWXlZOEEDls34rgL5SwAAAAAAASJdAAAAAAAB2q0Aek5SY4zFFQB\\u002f2k0jaxRBAfyDML7umUsAAAAAAABB3QAAAAAAAWJBAWMF\\u002f0XyjQUD9oU2ZkdUOQFrOSv\\u002f3t1LAAAAAAACAQkAAAAAAAABSQBzHcRzHsUlAARatZ\\u002f6cEEAUplrRRwpTwAAAAAAAADhAAAAAAACAUEAvuuiiiy5CQDq+LcCNkhFAiaEPdWMWU8AAAAAAAFB1QAAAAAAAsIRAagVLfVrBSUBaB76kXPILQJTgqj6ZR1PAAAAAAAC0m0AAAAAAAJewQHvU\\u002fXuh30RA5lraxw+PDkA3\\u002fbiB6\\u002f5SwAAAAAAAgE1AAAAAAABAX0CZmZmZmZlHQPDbmdSTyRBAoPjWLLwFU8AAAAAAAMBTQAAAAAAAAGRAAAAAAACwSEDcQvL2aTwRQOsX0+mM9VLAAAAAAAAYo0AAAAAAAKy1QGpAqQGlBkZA8aibBYYOC0BBnEX3hRhTwAAAAAAAcIFAAAAAAAAYjkDZL8SK0vhMQMXh7b3P0xJA\\u002fhogA7\\u002f6UsAAAAAAADCNQAAAAAAAnqFAtkBaC6S1REBBn2oioz8NQGQTLh69E1PAAAAAAADgbUAAAAAAAHB\\u002fQKDqpZbowUdAMxNOA+3zDUAszkFlNgxTwAAAAAAAQHpAAAAAAABIiUDP8K+0PfVJQEB\\u002fsypIEw5AuxJ5eRcWU8AAAAAAAKShQAAAAAAAJLRAKAYZ8pXlRUBN8nw2DbYJQLX7uKoqKFPAAAAAAACgaEAAAAAAAFB3QJvD91tSaEpA8I82D9kmEkAAd\\u002fJMnAZTwAAAAAAAAExAAAAAAACAWEAkSZIkSZJMQAOReIsd7xFAT6D8m9\\u002f9UsAAAAAAAJuzQAAAAAAADMhAH8J7CO9hREBC6iWvlncMQAfcRkWUDlPAAAAAAABoiUAAAAAAAOybQG1l9CJkv0ZA8\\u002f15v3ZdC0AU\\u002fQw1awtTwAAAAAAAoGJAAAAAAACwckDWEr5mmOpIQMA\\u002fm9ggcBBAs3gUW78XU8AAAAAAAMBzQAAAAAAA6IRARlL98gmeR0BbWNKyN8YRQD8WJnzEClPAAAAAAADAXEAAAAAAABBwQKFfoF+gX0ZAkkRIQPnZD0C8VTrMVQ1TwAAAAAAA4GpAAAAAAAAgeUAdIbZpxb1KQOELK8YNxhBAg3DD99f4UsAAAAAAAAAwQAAAAAAAAEBAAAAAAAAASUCBgMlOvo0SQP8Jqh0wBVPAAAAAAAA+q0AAAAAAAOe5QN4ubhYNS0pADGKY+hYdEEDzwsaKFAJTwAAAAAAAsHpAAAAAAADckUArMuBhza1CQEXBvGJuxAxAtsmXBrQgU8AAAAAAAEB8QAAAAAAACIpAQO38iX8hS0A8oGzKFWoRQHsol+c9A1PA\",\"shape\":\"33, 5\"},\"geo\":\"geo\",\"hovertemplate\":\"\\u003cb\\u003e%{hovertext}\\u003c\\u002fb\\u003e\\u003cbr\\u003e\\u003cbr\\u003eTOTAL_MOROSOS=%{customdata[0]}\\u003cbr\\u003eTOTAL_CLIENTES=%{customdata[1]}\\u003cbr\\u003ePORCENTAJE_MOROSIDAD=%{marker.color:.2f}\\u003cextra\\u003e\\u003c\\u002fextra\\u003e\",\"hovertext\":[\"IBAGU\\u00c9\",\"CAJAMARCA\",\"CARMEN DE APICAL\\u00c1\",\"CHAPARRAL\",\"COYAIMA\",\"ESPINAL\",\"GUAMO\",\"MELGAR\",\"PURIFICACI\\u00d3N\",\"ANDALUC\\u00cdA\",\"BOL\\u00cdVAR\",\"BUENAVENTURA\",\"GUADALAJARA DE BUGA\",\"BUGALAGRANDE\",\"CAICEDONIA\",\"CANDELARIA\",\"CARTAGO\",\"EL CERRITO\",\"GINEBRA\",\"GUACAR\\u00cd\",\"JAMUND\\u00cd\",\"LA UNI\\u00d3N\",\"LA VICTORIA\",\"PALMIRA\",\"PRADERA\",\"RIOFR\\u00cdO\",\"ROLDANILLO\",\"SAN PEDRO\",\"SEVILLA\",\"TORO\",\"TULU\\u00c1\",\"YUMBO\",\"ZARZAL\"],\"lat\":{\"dtype\":\"f8\",\"bdata\":\"fk6VfcTOEUCrlXsUvaARQGM16fhgfhBAv1QQXBXzDUBKfUI+NDQOQJ6RRfB4qhBA1McWXlZOEEAf9pNI2sUQQP2hTZmR1Q5AARatZ\\u002f6cEEA6vi3AjZIRQFoHvqRc8gtA5lraxw+PDkDw25nUk8kQQNxC8vZpPBFA8aibBYYOC0DF4e29z9MSQEGfaiKjPw1AMxNOA+3zDUBAf7MqSBMOQE3yfDYNtglA8I82D9kmEkADkXiLHe8RQELqJa+WdwxA8\\u002f15v3ZdC0DAP5vYIHAQQFtY0rI3xhFAkkRIQPnZD0DhCyvGDcYQQIGAyU6+jRJADGKY+hYdEEBFwbxibsQMQDygbMoVahFA\"},\"legendgroup\":\"\",\"lon\":{\"dtype\":\"f8\",\"bdata\":\"5BBxcyrQUsB7TAdf1t9SwNLuZ+POr1LA69O\\u002fXsDlUsAZkHvCa8lSwLV9+pUvuVLA5bN+K4C+UsB\\u002fIMwvu6ZSwFrOSv\\u002f3t1LAFKZa0UcKU8CJoQ91YxZTwJTgqj6ZR1PAN\\u002f24gev+UsCg+NYsvAVTwOsX0+mM9VLAQZxF94UYU8D+GiADv\\u002fpSwGQTLh69E1PALM5BZTYMU8C7Enl5FxZTwLX7uKoqKFPAAHfyTJwGU8BPoPyb3\\u002f1SwAfcRkWUDlPAFP0MNWsLU8CzeBRbvxdTwD8WJnzEClPAvFU6zFUNU8CDcMP31\\u002fhSwP8Jqh0wBVPA88LGihQCU8C2yZcGtCBTwHsol+c9A1PA\"},\"marker\":{\"color\":{\"dtype\":\"f8\",\"bdata\":\"r3vd6173QECzpqwpa0pJQBVwaD7XH0lAB\\u002faOqYG9E0AAAAAAAAAAALTseE4lhUBAh4eHh4eHR0Aek5SY4zFFQFjBf9F8o0FAHMdxHMexSUAvuuiiiy5CQGoFS31awUlAe9T9e6HfRECZmZmZmZlHQAAAAAAAsEhAakCpAaUGRkDZL8SK0vhMQLZAWguktURAoOqllujBR0DP8K+0PfVJQCgGGfKV5UVAm8P3W1JoSkAkSZIkSZJMQB\\u002fCewjvYURAbWX0ImS\\u002fRkDWEr5mmOpIQEZS\\u002ffIJnkdAoV+gX6BfRkAdIbZpxb1KQAAAAAAAAElA3i5uFg1LSkArMuBhza1CQEDt\\u002fIl\\u002fIUtA\"},\"coloraxis\":\"coloraxis\",\"size\":{\"dtype\":\"i2\",\"bdata\":\"uRuuAC8BJgAAABwEMADSBXEBJQAYAFUB7QY7AE8AjAkuAqYD7wCkAdIIxQA4AJsTLQOVADwBcwDXABAAnw2rAcQB\"},\"sizemode\":\"area\",\"sizeref\":8.87125,\"symbol\":\"circle\",\"line\":{\"color\":\"darkred\",\"width\":1},\"opacity\":0.8,\"sizemin\":6},\"mode\":\"markers\",\"name\":\"\",\"showlegend\":false,\"type\":\"scattergeo\"}],                        {\"template\":{\"data\":{\"histogram2dcontour\":[{\"type\":\"histogram2dcontour\",\"colorbar\":{\"outlinewidth\":0,\"ticks\":\"\"},\"colorscale\":[[0.0,\"#0d0887\"],[0.1111111111111111,\"#46039f\"],[0.2222222222222222,\"#7201a8\"],[0.3333333333333333,\"#9c179e\"],[0.4444444444444444,\"#bd3786\"],[0.5555555555555556,\"#d8576b\"],[0.6666666666666666,\"#ed7953\"],[0.7777777777777778,\"#fb9f3a\"],[0.8888888888888888,\"#fdca26\"],[1.0,\"#f0f921\"]]}],\"choropleth\":[{\"type\":\"choropleth\",\"colorbar\":{\"outlinewidth\":0,\"ticks\":\"\"}}],\"histogram2d\":[{\"type\":\"histogram2d\",\"colorbar\":{\"outlinewidth\":0,\"ticks\":\"\"},\"colorscale\":[[0.0,\"#0d0887\"],[0.1111111111111111,\"#46039f\"],[0.2222222222222222,\"#7201a8\"],[0.3333333333333333,\"#9c179e\"],[0.4444444444444444,\"#bd3786\"],[0.5555555555555556,\"#d8576b\"],[0.6666666666666666,\"#ed7953\"],[0.7777777777777778,\"#fb9f3a\"],[0.8888888888888888,\"#fdca26\"],[1.0,\"#f0f921\"]]}],\"heatmap\":[{\"type\":\"heatmap\",\"colorbar\":{\"outlinewidth\":0,\"ticks\":\"\"},\"colorscale\":[[0.0,\"#0d0887\"],[0.1111111111111111,\"#46039f\"],[0.2222222222222222,\"#7201a8\"],[0.3333333333333333,\"#9c179e\"],[0.4444444444444444,\"#bd3786\"],[0.5555555555555556,\"#d8576b\"],[0.6666666666666666,\"#ed7953\"],[0.7777777777777778,\"#fb9f3a\"],[0.8888888888888888,\"#fdca26\"],[1.0,\"#f0f921\"]]}],\"contourcarpet\":[{\"type\":\"contourcarpet\",\"colorbar\":{\"outlinewidth\":0,\"ticks\":\"\"}}],\"contour\":[{\"type\":\"contour\",\"colorbar\":{\"outlinewidth\":0,\"ticks\":\"\"},\"colorscale\":[[0.0,\"#0d0887\"],[0.1111111111111111,\"#46039f\"],[0.2222222222222222,\"#7201a8\"],[0.3333333333333333,\"#9c179e\"],[0.4444444444444444,\"#bd3786\"],[0.5555555555555556,\"#d8576b\"],[0.6666666666666666,\"#ed7953\"],[0.7777777777777778,\"#fb9f3a\"],[0.8888888888888888,\"#fdca26\"],[1.0,\"#f0f921\"]]}],\"surface\":[{\"type\":\"surface\",\"colorbar\":{\"outlinewidth\":0,\"ticks\":\"\"},\"colorscale\":[[0.0,\"#0d0887\"],[0.1111111111111111,\"#46039f\"],[0.2222222222222222,\"#7201a8\"],[0.3333333333333333,\"#9c179e\"],[0.4444444444444444,\"#bd3786\"],[0.5555555555555556,\"#d8576b\"],[0.6666666666666666,\"#ed7953\"],[0.7777777777777778,\"#fb9f3a\"],[0.8888888888888888,\"#fdca26\"],[1.0,\"#f0f921\"]]}],\"mesh3d\":[{\"type\":\"mesh3d\",\"colorbar\":{\"outlinewidth\":0,\"ticks\":\"\"}}],\"scatter\":[{\"fillpattern\":{\"fillmode\":\"overlay\",\"size\":10,\"solidity\":0.2},\"type\":\"scatter\"}],\"parcoords\":[{\"type\":\"parcoords\",\"line\":{\"colorbar\":{\"outlinewidth\":0,\"ticks\":\"\"}}}],\"scatterpolargl\":[{\"type\":\"scatterpolargl\",\"marker\":{\"colorbar\":{\"outlinewidth\":0,\"ticks\":\"\"}}}],\"bar\":[{\"error_x\":{\"color\":\"#2a3f5f\"},\"error_y\":{\"color\":\"#2a3f5f\"},\"marker\":{\"line\":{\"color\":\"#E5ECF6\",\"width\":0.5},\"pattern\":{\"fillmode\":\"overlay\",\"size\":10,\"solidity\":0.2}},\"type\":\"bar\"}],\"scattergeo\":[{\"type\":\"scattergeo\",\"marker\":{\"colorbar\":{\"outlinewidth\":0,\"ticks\":\"\"}}}],\"scatterpolar\":[{\"type\":\"scatterpolar\",\"marker\":{\"colorbar\":{\"outlinewidth\":0,\"ticks\":\"\"}}}],\"histogram\":[{\"marker\":{\"pattern\":{\"fillmode\":\"overlay\",\"size\":10,\"solidity\":0.2}},\"type\":\"histogram\"}],\"scattergl\":[{\"type\":\"scattergl\",\"marker\":{\"colorbar\":{\"outlinewidth\":0,\"ticks\":\"\"}}}],\"scatter3d\":[{\"type\":\"scatter3d\",\"line\":{\"colorbar\":{\"outlinewidth\":0,\"ticks\":\"\"}},\"marker\":{\"colorbar\":{\"outlinewidth\":0,\"ticks\":\"\"}}}],\"scattermap\":[{\"type\":\"scattermap\",\"marker\":{\"colorbar\":{\"outlinewidth\":0,\"ticks\":\"\"}}}],\"scattermapbox\":[{\"type\":\"scattermapbox\",\"marker\":{\"colorbar\":{\"outlinewidth\":0,\"ticks\":\"\"}}}],\"scatterternary\":[{\"type\":\"scatterternary\",\"marker\":{\"colorbar\":{\"outlinewidth\":0,\"ticks\":\"\"}}}],\"scattercarpet\":[{\"type\":\"scattercarpet\",\"marker\":{\"colorbar\":{\"outlinewidth\":0,\"ticks\":\"\"}}}],\"carpet\":[{\"aaxis\":{\"endlinecolor\":\"#2a3f5f\",\"gridcolor\":\"white\",\"linecolor\":\"white\",\"minorgridcolor\":\"white\",\"startlinecolor\":\"#2a3f5f\"},\"baxis\":{\"endlinecolor\":\"#2a3f5f\",\"gridcolor\":\"white\",\"linecolor\":\"white\",\"minorgridcolor\":\"white\",\"startlinecolor\":\"#2a3f5f\"},\"type\":\"carpet\"}],\"table\":[{\"cells\":{\"fill\":{\"color\":\"#EBF0F8\"},\"line\":{\"color\":\"white\"}},\"header\":{\"fill\":{\"color\":\"#C8D4E3\"},\"line\":{\"color\":\"white\"}},\"type\":\"table\"}],\"barpolar\":[{\"marker\":{\"line\":{\"color\":\"#E5ECF6\",\"width\":0.5},\"pattern\":{\"fillmode\":\"overlay\",\"size\":10,\"solidity\":0.2}},\"type\":\"barpolar\"}],\"pie\":[{\"automargin\":true,\"type\":\"pie\"}]},\"layout\":{\"autotypenumbers\":\"strict\",\"colorway\":[\"#636efa\",\"#EF553B\",\"#00cc96\",\"#ab63fa\",\"#FFA15A\",\"#19d3f3\",\"#FF6692\",\"#B6E880\",\"#FF97FF\",\"#FECB52\"],\"font\":{\"color\":\"#2a3f5f\"},\"hovermode\":\"closest\",\"hoverlabel\":{\"align\":\"left\"},\"paper_bgcolor\":\"white\",\"plot_bgcolor\":\"#E5ECF6\",\"polar\":{\"bgcolor\":\"#E5ECF6\",\"angularaxis\":{\"gridcolor\":\"white\",\"linecolor\":\"white\",\"ticks\":\"\"},\"radialaxis\":{\"gridcolor\":\"white\",\"linecolor\":\"white\",\"ticks\":\"\"}},\"ternary\":{\"bgcolor\":\"#E5ECF6\",\"aaxis\":{\"gridcolor\":\"white\",\"linecolor\":\"white\",\"ticks\":\"\"},\"baxis\":{\"gridcolor\":\"white\",\"linecolor\":\"white\",\"ticks\":\"\"},\"caxis\":{\"gridcolor\":\"white\",\"linecolor\":\"white\",\"ticks\":\"\"}},\"coloraxis\":{\"colorbar\":{\"outlinewidth\":0,\"ticks\":\"\"}},\"colorscale\":{\"sequential\":[[0.0,\"#0d0887\"],[0.1111111111111111,\"#46039f\"],[0.2222222222222222,\"#7201a8\"],[0.3333333333333333,\"#9c179e\"],[0.4444444444444444,\"#bd3786\"],[0.5555555555555556,\"#d8576b\"],[0.6666666666666666,\"#ed7953\"],[0.7777777777777778,\"#fb9f3a\"],[0.8888888888888888,\"#fdca26\"],[1.0,\"#f0f921\"]],\"sequentialminus\":[[0.0,\"#0d0887\"],[0.1111111111111111,\"#46039f\"],[0.2222222222222222,\"#7201a8\"],[0.3333333333333333,\"#9c179e\"],[0.4444444444444444,\"#bd3786\"],[0.5555555555555556,\"#d8576b\"],[0.6666666666666666,\"#ed7953\"],[0.7777777777777778,\"#fb9f3a\"],[0.8888888888888888,\"#fdca26\"],[1.0,\"#f0f921\"]],\"diverging\":[[0,\"#8e0152\"],[0.1,\"#c51b7d\"],[0.2,\"#de77ae\"],[0.3,\"#f1b6da\"],[0.4,\"#fde0ef\"],[0.5,\"#f7f7f7\"],[0.6,\"#e6f5d0\"],[0.7,\"#b8e186\"],[0.8,\"#7fbc41\"],[0.9,\"#4d9221\"],[1,\"#276419\"]]},\"xaxis\":{\"gridcolor\":\"white\",\"linecolor\":\"white\",\"ticks\":\"\",\"title\":{\"standoff\":15},\"zerolinecolor\":\"white\",\"automargin\":true,\"zerolinewidth\":2},\"yaxis\":{\"gridcolor\":\"white\",\"linecolor\":\"white\",\"ticks\":\"\",\"title\":{\"standoff\":15},\"zerolinecolor\":\"white\",\"automargin\":true,\"zerolinewidth\":2},\"scene\":{\"xaxis\":{\"backgroundcolor\":\"#E5ECF6\",\"gridcolor\":\"white\",\"linecolor\":\"white\",\"showbackground\":true,\"ticks\":\"\",\"zerolinecolor\":\"white\",\"gridwidth\":2},\"yaxis\":{\"backgroundcolor\":\"#E5ECF6\",\"gridcolor\":\"white\",\"linecolor\":\"white\",\"showbackground\":true,\"ticks\":\"\",\"zerolinecolor\":\"white\",\"gridwidth\":2},\"zaxis\":{\"backgroundcolor\":\"#E5ECF6\",\"gridcolor\":\"white\",\"linecolor\":\"white\",\"showbackground\":true,\"ticks\":\"\",\"zerolinecolor\":\"white\",\"gridwidth\":2}},\"shapedefaults\":{\"line\":{\"color\":\"#2a3f5f\"}},\"annotationdefaults\":{\"arrowcolor\":\"#2a3f5f\",\"arrowhead\":0,\"arrowwidth\":1},\"geo\":{\"bgcolor\":\"white\",\"landcolor\":\"#E5ECF6\",\"subunitcolor\":\"white\",\"showland\":true,\"showlakes\":true,\"lakecolor\":\"white\"},\"title\":{\"x\":0.05},\"mapbox\":{\"style\":\"light\"}}},\"geo\":{\"domain\":{\"x\":[0.0,1.0],\"y\":[0.0,1.0]},\"projection\":{\"type\":\"natural earth\",\"scale\":0.8},\"center\":{\"lat\":3.9,\"lon\":-76.0},\"lataxis\":{\"range\":[1.5,5.5]},\"lonaxis\":{\"range\":[-78,-74.5]},\"resolution\":50,\"showcountries\":true,\"showsubunits\":true,\"countrycolor\":\"darkgray\",\"countrywidth\":2,\"subunitcolor\":\"gray\",\"subunitwidth\":0.8,\"showland\":true,\"landcolor\":\"rgba(0, 100, 0, 0.3)\",\"showocean\":true,\"oceancolor\":\"lightblue\",\"visible\":true,\"scope\":\"south america\",\"bgcolor\":\"rgba(255,255,255,1)\",\"showframe\":true,\"framecolor\":\"darkgray\",\"showcoastlines\":true,\"coastlinecolor\":\"darkgray\"},\"coloraxis\":{\"colorbar\":{\"title\":{\"text\":\"% Morosidad\"},\"thickness\":20,\"len\":0.8,\"x\":0.9,\"y\":0.5},\"colorscale\":[[0.0,\"rgb(255,245,235)\"],[0.125,\"rgb(254,230,206)\"],[0.25,\"rgb(253,208,162)\"],[0.375,\"rgb(253,174,107)\"],[0.5,\"rgb(253,141,60)\"],[0.625,\"rgb(241,105,19)\"],[0.75,\"rgb(217,72,1)\"],[0.875,\"rgb(166,54,3)\"],[1.0,\"rgb(127,39,4)\"]],\"cmin\":0,\"cmax\":57.943925233644855},\"legend\":{\"tracegroupgap\":0,\"itemsizing\":\"constant\"},\"title\":{\"text\":\"Concentraci\\u00f3n de clientes morosos por municipio\"},\"font\":{\"size\":12},\"width\":1000,\"height\":800},                        {\"responsive\": true}                    ).then(function(){\n",
       "                            \n",
       "var gd = document.getElementById('7ed833dd-5c55-458b-97c2-72016f918167');\n",
       "var x = new MutationObserver(function (mutations, observer) {{\n",
       "        var display = window.getComputedStyle(gd).display;\n",
       "        if (!display || display === 'none') {{\n",
       "            console.log([gd, 'removed!']);\n",
       "            Plotly.purge(gd);\n",
       "            observer.disconnect();\n",
       "        }}\n",
       "}});\n",
       "\n",
       "// Listen for the removal of the full notebook cells\n",
       "var notebookContainer = gd.closest('#notebook-container');\n",
       "if (notebookContainer) {{\n",
       "    x.observe(notebookContainer, {childList: true});\n",
       "}}\n",
       "\n",
       "// Listen for the clearing of the current output cell\n",
       "var outputEl = gd.closest('.output');\n",
       "if (outputEl) {{\n",
       "    x.observe(outputEl, {childList: true});\n",
       "}}\n",
       "\n",
       "                        })                };            </script>        </div>"
      ]
     },
     "metadata": {},
     "output_type": "display_data"
    }
   ],
   "source": [
    "fig = px.scatter_geo(\n",
    "    df_plot,\n",
    "    lat=\"LATITUD\",\n",
    "    lon=\"LONGITUD\",\n",
    "    size=\"TOTAL_MOROSOS\",              \n",
    "    color=\"PORCENTAJE_MOROSIDAD\",\n",
    "    color_continuous_scale=\"oranges\",\n",
    "    range_color=[0, df_plot['PORCENTAJE_MOROSIDAD'].max()],\n",
    "    hover_name=\"NOM_MPIO\",\n",
    "    hover_data={\n",
    "        \"TOTAL_MOROSOS\": True,\n",
    "        \"TOTAL_CLIENTES\": True,\n",
    "        \"PORCENTAJE_MOROSIDAD\": \":.2f\",\n",
    "        \"LATITUD\": False,\n",
    "        \"LONGITUD\": False\n",
    "    },\n",
    "    projection=\"natural earth\",\n",
    "    title=\"Concentración de clientes morosos por municipio\"\n",
    ")\n",
    "\n",
    "fig.update_geos(\n",
    "    resolution=50,\n",
    "    showcountries=True,\n",
    "    showsubunits=True,\n",
    "    countrycolor=\"darkgray\",\n",
    "    countrywidth=2,\n",
    "    subunitcolor=\"gray\", \n",
    "    subunitwidth=0.8,\n",
    "    showland=True,\n",
    "    landcolor=\"rgba(0, 100, 0, 0.3)\",\n",
    "    showocean=True,\n",
    "    oceancolor=\"lightblue\",\n",
    "    center={\"lat\": 3.9, \"lon\": -76.0}, \n",
    "    projection_scale=0.8, \n",
    "    visible=True,\n",
    "    scope=\"south america\",\n",
    "    lataxis_range=[1.5, 5.5],\n",
    "    lonaxis_range=[-78, -74.5] \n",
    ")\n",
    "\n",
    "fig.update_layout(\n",
    "    width=1000,\n",
    "    height=800,\n",
    "    geo=dict(\n",
    "        bgcolor='rgba(255,255,255,1)',\n",
    "        showframe=True,\n",
    "        framecolor=\"darkgray\",\n",
    "        showcoastlines=True,\n",
    "        coastlinecolor=\"darkgray\"\n",
    "    ),\n",
    "    coloraxis_colorbar=dict(\n",
    "        title=\"% Morosidad\",\n",
    "        thickness=20,\n",
    "        len=0.8,\n",
    "        x=0.9,\n",
    "        y=0.5\n",
    "    ),\n",
    "    font=dict(size=12)\n",
    ")\n",
    "\n",
    "fig.update_traces(\n",
    "    marker=dict(\n",
    "        sizemin=6,\n",
    "        sizemode='area',\n",
    "        sizeref=2.*max(df_plot['TOTAL_MOROSOS'])/(40.**2),\n",
    "        line=dict(width=1, color='darkred'),\n",
    "        opacity=0.8\n",
    "    ),\n",
    "    selector=dict(mode='markers')\n",
    ")\n",
    "\n",
    "fig.show()"
   ]
  },
  {
   "cell_type": "markdown",
   "id": "361a5b94",
   "metadata": {},
   "source": [
    "---\n",
    "## **Conclusiones**"
   ]
  }
 ],
 "metadata": {
  "kernelspec": {
   "display_name": "Python 3",
   "language": "python",
   "name": "python3"
  },
  "language_info": {
   "codemirror_mode": {
    "name": "ipython",
    "version": 3
   },
   "file_extension": ".py",
   "mimetype": "text/x-python",
   "name": "python",
   "nbconvert_exporter": "python",
   "pygments_lexer": "ipython3",
   "version": "3.11.3"
  }
 },
 "nbformat": 4,
 "nbformat_minor": 5
}
