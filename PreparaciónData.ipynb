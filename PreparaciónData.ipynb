{
 "cells": [
  {
   "cell_type": "markdown",
   "id": "ef52e2df",
   "metadata": {},
   "source": [
    "## **Preparación y limpieza de datos**"
   ]
  },
  {
   "cell_type": "markdown",
   "id": "05f3fb7b",
   "metadata": {},
   "source": [
    "#### 📘 **Importación de librerías** \n",
    "Importamos las librerías que necesitaremos en nuestra **limpieza** para los análisis posteriores"
   ]
  },
  {
   "cell_type": "code",
   "execution_count": 16,
   "id": "2062d1ed",
   "metadata": {},
   "outputs": [],
   "source": [
    "import numpy as np\n",
    "import pandas as pd\n",
    "from statistics import mode"
   ]
  },
  {
   "cell_type": "markdown",
   "id": "41a62928",
   "metadata": {},
   "source": [
    "#### 🛜 **Importación del dataset Telco**\n",
    "\n",
    "Este dataset proviene de la cartera de una empresa de telecomunicaciones que da servicio al Valle y al Tolima. \n"
   ]
  },
  {
   "cell_type": "code",
   "execution_count": 17,
   "id": "fb0c557b",
   "metadata": {},
   "outputs": [
    {
     "name": "stdout",
     "output_type": "stream",
     "text": [
      "<class 'pandas.core.frame.DataFrame'>\n",
      "RangeIndex: 165644 entries, 0 to 165643\n",
      "Data columns (total 21 columns):\n",
      " #   Column              Non-Null Count   Dtype  \n",
      "---  ------              --------------   -----  \n",
      " 0   CLIENTE_ID_UI       165644 non-null  object \n",
      " 1   TARIFA_PS           165644 non-null  object \n",
      " 2   ESTADO_CLIENTE      165644 non-null  object \n",
      " 3   ESTADO_SUMINISTRO   165644 non-null  object \n",
      " 4   ESTADO_FACTURACION  165644 non-null  object \n",
      " 5   DEUDA               165644 non-null  int64  \n",
      " 6   ANTIGUEDAD_SALDO    165644 non-null  int64  \n",
      " 7   GRUPO_CU            165644 non-null  object \n",
      " 8   CICLO               165644 non-null  int64  \n",
      " 9   ZONA                165639 non-null  float64\n",
      " 10  CLASE_SERVICIO      165644 non-null  object \n",
      " 11  ESTRATO             165644 non-null  int64  \n",
      " 12  DEPTO               165644 non-null  object \n",
      " 13  MUNICIPIO           165644 non-null  object \n",
      " 14  BARRIO              165644 non-null  object \n",
      " 15  TIPO_SERVICIO       165644 non-null  object \n",
      " 16  TOTAL_FACTURADO     161864 non-null  float64\n",
      " 17  FECHA_FACTURACION   161864 non-null  object \n",
      " 18  FECHA_VENCIMIENTO   161864 non-null  object \n",
      " 19  FECHA_ULT_PAGO      144965 non-null  object \n",
      " 20  VALOR_ULT_PAGO      144965 non-null  float64\n",
      "dtypes: float64(3), int64(4), object(14)\n",
      "memory usage: 26.5+ MB\n"
     ]
    }
   ],
   "source": [
    "## Cargar datos \n",
    "df = pd.read_csv(\"./data/telco-dataset.csv\")\n",
    "\n",
    "## respaldo - backup \n",
    "df_original = df.copy()\n",
    "\n",
    "df.info()"
   ]
  },
  {
   "cell_type": "code",
   "execution_count": 18,
   "id": "0457de7e",
   "metadata": {},
   "outputs": [
    {
     "data": {
      "text/html": [
       "<div>\n",
       "<style scoped>\n",
       "    .dataframe tbody tr th:only-of-type {\n",
       "        vertical-align: middle;\n",
       "    }\n",
       "\n",
       "    .dataframe tbody tr th {\n",
       "        vertical-align: top;\n",
       "    }\n",
       "\n",
       "    .dataframe thead th {\n",
       "        text-align: right;\n",
       "    }\n",
       "</style>\n",
       "<table border=\"1\" class=\"dataframe\">\n",
       "  <thead>\n",
       "    <tr style=\"text-align: right;\">\n",
       "      <th></th>\n",
       "      <th>CLIENTE_ID_UI</th>\n",
       "      <th>TARIFA_PS</th>\n",
       "      <th>ESTADO_CLIENTE</th>\n",
       "      <th>ESTADO_SUMINISTRO</th>\n",
       "      <th>ESTADO_FACTURACION</th>\n",
       "      <th>DEUDA</th>\n",
       "      <th>ANTIGUEDAD_SALDO</th>\n",
       "      <th>GRUPO_CU</th>\n",
       "      <th>CICLO</th>\n",
       "      <th>ZONA</th>\n",
       "      <th>...</th>\n",
       "      <th>ESTRATO</th>\n",
       "      <th>DEPTO</th>\n",
       "      <th>MUNICIPIO</th>\n",
       "      <th>BARRIO</th>\n",
       "      <th>TIPO_SERVICIO</th>\n",
       "      <th>TOTAL_FACTURADO</th>\n",
       "      <th>FECHA_FACTURACION</th>\n",
       "      <th>FECHA_VENCIMIENTO</th>\n",
       "      <th>FECHA_ULT_PAGO</th>\n",
       "      <th>VALOR_ULT_PAGO</th>\n",
       "    </tr>\n",
       "  </thead>\n",
       "  <tbody>\n",
       "    <tr>\n",
       "      <th>0</th>\n",
       "      <td>d91b230b-8619-53e2-8772-52cc8ce140be</td>\n",
       "      <td>189-PLAN 100 MEGAS 2025</td>\n",
       "      <td>30-Inactivo</td>\n",
       "      <td>0-Con suministro</td>\n",
       "      <td>0-Sin Proceso</td>\n",
       "      <td>282100</td>\n",
       "      <td>4</td>\n",
       "      <td>1-TOLIMA</td>\n",
       "      <td>6</td>\n",
       "      <td>1.0</td>\n",
       "      <td>...</td>\n",
       "      <td>2</td>\n",
       "      <td>73-Tolima</td>\n",
       "      <td>73001-IBAGUÉ</td>\n",
       "      <td>1883-URB. ARKAMBUCO I</td>\n",
       "      <td>T-Telecomunicaciones</td>\n",
       "      <td>282100.0</td>\n",
       "      <td>21/04/2025</td>\n",
       "      <td>02/05/2025</td>\n",
       "      <td>NaN</td>\n",
       "      <td>NaN</td>\n",
       "    </tr>\n",
       "    <tr>\n",
       "      <th>1</th>\n",
       "      <td>e076edda-bf70-5105-a9a9-118d7eecd0c4</td>\n",
       "      <td>189-PLAN 100 MEGAS 2025</td>\n",
       "      <td>0-Activo</td>\n",
       "      <td>0-Con suministro</td>\n",
       "      <td>2-Calculo de Consumo</td>\n",
       "      <td>486560</td>\n",
       "      <td>7</td>\n",
       "      <td>2-VALLE</td>\n",
       "      <td>1</td>\n",
       "      <td>2.0</td>\n",
       "      <td>...</td>\n",
       "      <td>1</td>\n",
       "      <td>76-Valle del Cauca</td>\n",
       "      <td>76364-JAMUNDÍ</td>\n",
       "      <td>9497-EDEN DEL PARQUE</td>\n",
       "      <td>T-Telecomunicaciones</td>\n",
       "      <td>486560.0</td>\n",
       "      <td>08/07/2025</td>\n",
       "      <td>18/07/2025</td>\n",
       "      <td>NaN</td>\n",
       "      <td>NaN</td>\n",
       "    </tr>\n",
       "    <tr>\n",
       "      <th>2</th>\n",
       "      <td>6a8ddfbb-fd47-5320-a6bd-a3b4ab26e9d5</td>\n",
       "      <td>112-PLAN 200 MEGAS 2024</td>\n",
       "      <td>30-Inactivo</td>\n",
       "      <td>0-Con suministro</td>\n",
       "      <td>0-Sin Proceso</td>\n",
       "      <td>0</td>\n",
       "      <td>0</td>\n",
       "      <td>1-TOLIMA</td>\n",
       "      <td>2</td>\n",
       "      <td>1.0</td>\n",
       "      <td>...</td>\n",
       "      <td>3</td>\n",
       "      <td>73-Tolima</td>\n",
       "      <td>73001-IBAGUÉ</td>\n",
       "      <td>1675-LA FRANCIA</td>\n",
       "      <td>T-Telecomunicaciones</td>\n",
       "      <td>NaN</td>\n",
       "      <td>NaN</td>\n",
       "      <td>NaN</td>\n",
       "      <td>NaN</td>\n",
       "      <td>NaN</td>\n",
       "    </tr>\n",
       "  </tbody>\n",
       "</table>\n",
       "<p>3 rows × 21 columns</p>\n",
       "</div>"
      ],
      "text/plain": [
       "                          CLIENTE_ID_UI                TARIFA_PS  \\\n",
       "0  d91b230b-8619-53e2-8772-52cc8ce140be  189-PLAN 100 MEGAS 2025   \n",
       "1  e076edda-bf70-5105-a9a9-118d7eecd0c4  189-PLAN 100 MEGAS 2025   \n",
       "2  6a8ddfbb-fd47-5320-a6bd-a3b4ab26e9d5  112-PLAN 200 MEGAS 2024   \n",
       "\n",
       "  ESTADO_CLIENTE ESTADO_SUMINISTRO    ESTADO_FACTURACION   DEUDA  \\\n",
       "0    30-Inactivo  0-Con suministro         0-Sin Proceso  282100   \n",
       "1       0-Activo  0-Con suministro  2-Calculo de Consumo  486560   \n",
       "2    30-Inactivo  0-Con suministro         0-Sin Proceso       0   \n",
       "\n",
       "   ANTIGUEDAD_SALDO  GRUPO_CU  CICLO  ZONA  ... ESTRATO               DEPTO  \\\n",
       "0                 4  1-TOLIMA      6   1.0  ...       2           73-Tolima   \n",
       "1                 7   2-VALLE      1   2.0  ...       1  76-Valle del Cauca   \n",
       "2                 0  1-TOLIMA      2   1.0  ...       3           73-Tolima   \n",
       "\n",
       "       MUNICIPIO                 BARRIO         TIPO_SERVICIO TOTAL_FACTURADO  \\\n",
       "0   73001-IBAGUÉ  1883-URB. ARKAMBUCO I  T-Telecomunicaciones        282100.0   \n",
       "1  76364-JAMUNDÍ   9497-EDEN DEL PARQUE  T-Telecomunicaciones        486560.0   \n",
       "2   73001-IBAGUÉ        1675-LA FRANCIA  T-Telecomunicaciones             NaN   \n",
       "\n",
       "   FECHA_FACTURACION FECHA_VENCIMIENTO FECHA_ULT_PAGO VALOR_ULT_PAGO  \n",
       "0         21/04/2025        02/05/2025            NaN            NaN  \n",
       "1         08/07/2025        18/07/2025            NaN            NaN  \n",
       "2                NaN               NaN            NaN            NaN  \n",
       "\n",
       "[3 rows x 21 columns]"
      ]
     },
     "execution_count": 18,
     "metadata": {},
     "output_type": "execute_result"
    }
   ],
   "source": [
    "df.head(3)"
   ]
  },
  {
   "cell_type": "markdown",
   "id": "79c3d2f3",
   "metadata": {},
   "source": [
    "---\n",
    "#### **🔎 Revisión de datos perdidos o nulos**\n",
    "   "
   ]
  },
  {
   "cell_type": "code",
   "execution_count": 19,
   "id": "9b338438",
   "metadata": {},
   "outputs": [
    {
     "data": {
      "text/plain": [
       "CLIENTE_ID_UI             0\n",
       "TARIFA_PS                 0\n",
       "ESTADO_CLIENTE            0\n",
       "ESTADO_SUMINISTRO         0\n",
       "ESTADO_FACTURACION        0\n",
       "DEUDA                     0\n",
       "ANTIGUEDAD_SALDO          0\n",
       "GRUPO_CU                  0\n",
       "CICLO                     0\n",
       "ZONA                      5\n",
       "CLASE_SERVICIO            0\n",
       "ESTRATO                   0\n",
       "DEPTO                     0\n",
       "MUNICIPIO                 0\n",
       "BARRIO                    0\n",
       "TIPO_SERVICIO             0\n",
       "TOTAL_FACTURADO        3780\n",
       "FECHA_FACTURACION      3780\n",
       "FECHA_VENCIMIENTO      3780\n",
       "FECHA_ULT_PAGO        20679\n",
       "VALOR_ULT_PAGO        20679\n",
       "dtype: int64"
      ]
     },
     "execution_count": 19,
     "metadata": {},
     "output_type": "execute_result"
    }
   ],
   "source": [
    "df.isnull().sum()"
   ]
  },
  {
   "cell_type": "markdown",
   "id": "1efe69dc",
   "metadata": {},
   "source": [
    "---\n",
    "**ZONA:** `ZONA` es una feature que clasifica las ubicaciones en el municipio, esta feature es util para la entrega de facturas. Ya que solo son 5 nulos, se imputa con la moda debido a que es una variable categorica. "
   ]
  },
  {
   "cell_type": "code",
   "execution_count": 20,
   "id": "a97d2d98",
   "metadata": {},
   "outputs": [
    {
     "data": {
      "text/plain": [
       "ZONA\n",
       "2.0    101970\n",
       "1.0     63667\n",
       "3.0         2\n",
       "Name: count, dtype: int64"
      ]
     },
     "execution_count": 20,
     "metadata": {},
     "output_type": "execute_result"
    }
   ],
   "source": [
    "## Vemos el tipo de dato de zona y sus diferentes valores en el df\n",
    "df['ZONA'].value_counts()"
   ]
  },
  {
   "cell_type": "code",
   "execution_count": 21,
   "id": "d586cb72",
   "metadata": {},
   "outputs": [
    {
     "data": {
      "text/plain": [
       "ZONA\n",
       "2.0    101975\n",
       "1.0     63667\n",
       "3.0         2\n",
       "Name: count, dtype: int64"
      ]
     },
     "execution_count": 21,
     "metadata": {},
     "output_type": "execute_result"
    }
   ],
   "source": [
    "## Imputamos con la moda estos 5 registros\n",
    "df['ZONA'] = df['ZONA'].fillna(df['ZONA'].mode()[0])\n",
    "df['ZONA'].value_counts() ##Se evidencia el aumento de 5 unidades en la moda 2"
   ]
  },
  {
   "cell_type": "markdown",
   "id": "adf87b29",
   "metadata": {},
   "source": [
    "---\n",
    "**VALOR_ULT_PAGO**: Los nulos en este feature indican aquellos clientes que nunca han pagado, por esa razón imputaremos con 0 estos valores \n",
    "\n",
    "**VALOR_FACTURADO**: Los nulos en este caso se llenarán con 0 pero se agregará una columna para indicar si se era nula o no. Esto con el fin de no perder la trazabilidad de aquellos datos cuyo valor facturado no existia. "
   ]
  },
  {
   "cell_type": "code",
   "execution_count": 22,
   "id": "dd8bfdbf",
   "metadata": {},
   "outputs": [],
   "source": [
    "## valor ult pago\n",
    "df['VALOR_ULT_PAGO'] = df['VALOR_ULT_PAGO'].fillna(0)\n",
    "\n",
    "## total_facturado\n",
    "df['TOTAL_FACTURADO_NULL'] = df['TOTAL_FACTURADO'].isna().astype(int)\n",
    "df['TOTAL_FACTURADO'] = df['TOTAL_FACTURADO'].fillna(0)"
   ]
  },
  {
   "cell_type": "markdown",
   "id": "06d89c64",
   "metadata": {},
   "source": [
    "---\n",
    "**FECHA_FACTURACION** -\n",
    "**FECHA_VENCIMIENTO** - \n",
    "**FECHA_ULT_PAGO** \n",
    "\n",
    "Para las variables de fecha se hará lo mismo, se llenarán aquellos datos que indiquen que no tienen factura al igual que se crearán columnas dummies para indicar si tienen o no fecha"
   ]
  },
  {
   "cell_type": "code",
   "execution_count": 23,
   "id": "16fff8bf",
   "metadata": {},
   "outputs": [],
   "source": [
    "## Fechas \n",
    "df['FACTURA_NULL'] = df['FECHA_FACTURACION'].notna().astype(int)\n",
    "df['FACTURA_VENCIMIENTO_NULL'] = df['FECHA_VENCIMIENTO'].notna().astype(int)\n",
    "df['PAGO_NULL'] = df['FECHA_ULT_PAGO'].notna().astype(int)\n",
    "\n",
    "df['FECHA_FACTURACION'] = df['FECHA_FACTURACION'].fillna(\"SIN_FACTURA\")\n",
    "df['FECHA_VENCIMIENTO'] = df['FECHA_VENCIMIENTO'].fillna(\"SIN_FECHA\")\n",
    "df['FECHA_ULT_PAGO'] = df['FECHA_ULT_PAGO'].fillna(\"SIN_PAGO\")"
   ]
  },
  {
   "cell_type": "code",
   "execution_count": 24,
   "id": "23158265",
   "metadata": {},
   "outputs": [
    {
     "data": {
      "text/plain": [
       "CLIENTE_ID_UI               0\n",
       "TARIFA_PS                   0\n",
       "ESTADO_CLIENTE              0\n",
       "ESTADO_SUMINISTRO           0\n",
       "ESTADO_FACTURACION          0\n",
       "DEUDA                       0\n",
       "ANTIGUEDAD_SALDO            0\n",
       "GRUPO_CU                    0\n",
       "CICLO                       0\n",
       "ZONA                        0\n",
       "CLASE_SERVICIO              0\n",
       "ESTRATO                     0\n",
       "DEPTO                       0\n",
       "MUNICIPIO                   0\n",
       "BARRIO                      0\n",
       "TIPO_SERVICIO               0\n",
       "TOTAL_FACTURADO             0\n",
       "FECHA_FACTURACION           0\n",
       "FECHA_VENCIMIENTO           0\n",
       "FECHA_ULT_PAGO              0\n",
       "VALOR_ULT_PAGO              0\n",
       "TOTAL_FACTURADO_NULL        0\n",
       "FACTURA_NULL                0\n",
       "FACTURA_VENCIMIENTO_NULL    0\n",
       "PAGO_NULL                   0\n",
       "dtype: int64"
      ]
     },
     "execution_count": 24,
     "metadata": {},
     "output_type": "execute_result"
    }
   ],
   "source": [
    "df.isnull().sum()"
   ]
  },
  {
   "cell_type": "markdown",
   "id": "9998c717",
   "metadata": {},
   "source": [
    "#### **🔎 Datos duplicados, redudantes o poco relevantes**\n",
    "Se buscan variables que no sean relevantes o que estén repetidas en el dataset. "
   ]
  },
  {
   "cell_type": "code",
   "execution_count": 25,
   "id": "841b2eb4",
   "metadata": {},
   "outputs": [
    {
     "data": {
      "text/plain": [
       "np.int64(0)"
      ]
     },
     "execution_count": 25,
     "metadata": {},
     "output_type": "execute_result"
    }
   ],
   "source": [
    "## Filas duplicadas\n",
    "df.duplicated().sum()"
   ]
  },
  {
   "cell_type": "code",
   "execution_count": 26,
   "id": "fae29275",
   "metadata": {},
   "outputs": [
    {
     "data": {
      "text/plain": [
       "CLIENTE_ID_UI               165644\n",
       "TARIFA_PS                       65\n",
       "ESTADO_CLIENTE                   4\n",
       "ESTADO_SUMINISTRO               10\n",
       "ESTADO_FACTURACION               3\n",
       "DEUDA                        21793\n",
       "ANTIGUEDAD_SALDO                34\n",
       "GRUPO_CU                         3\n",
       "CICLO                            9\n",
       "ZONA                             3\n",
       "CLASE_SERVICIO                   6\n",
       "ESTRATO                          7\n",
       "DEPTO                            4\n",
       "MUNICIPIO                       42\n",
       "BARRIO                        2262\n",
       "TIPO_SERVICIO                    1\n",
       "TOTAL_FACTURADO              22955\n",
       "FECHA_FACTURACION             1071\n",
       "FECHA_VENCIMIENTO              835\n",
       "FECHA_ULT_PAGO                1355\n",
       "VALOR_ULT_PAGO               15554\n",
       "TOTAL_FACTURADO_NULL             2\n",
       "FACTURA_NULL                     2\n",
       "FACTURA_VENCIMIENTO_NULL         2\n",
       "PAGO_NULL                        2\n",
       "dtype: int64"
      ]
     },
     "execution_count": 26,
     "metadata": {},
     "output_type": "execute_result"
    }
   ],
   "source": [
    "## Tipos de datos en columnas\n",
    "df.nunique()"
   ]
  },
  {
   "cell_type": "markdown",
   "id": "2f085b20",
   "metadata": {},
   "source": [
    "**TIPO_SERVICIO**: Se identifica feature TIPO_SERVICIO que solo contiene 1 tipo de dato que es T - Telecomunicaciones, se procede a eliminar ya que no es relevante para el negocio (solo se tiene un servicio que es telecomunicaciones) "
   ]
  },
  {
   "cell_type": "markdown",
   "id": "eb18369b",
   "metadata": {},
   "source": [
    "**GRUPO_CU**: Esta feature indica a que grupo del departamento pertenece el cliente, sin embargo, ya existe una feature `DEPTO` por esa razón se procede a dejar solo DEPTO"
   ]
  },
  {
   "cell_type": "code",
   "execution_count": 27,
   "id": "4aecae41",
   "metadata": {},
   "outputs": [
    {
     "name": "stdout",
     "output_type": "stream",
     "text": [
      "Valores únicos en DEPTO: ['73-Tolima' '76-Valle del Cauca' '19-Cauca' '25-Cundinamarca']\n",
      "Valores únicos en GRUPO_CU: ['1-TOLIMA' '2-VALLE' '3-CUNDINAMARCA']\n"
     ]
    }
   ],
   "source": [
    "print(\"Valores únicos en DEPTO:\", df[\"DEPTO\"].unique())\n",
    "print(\"Valores únicos en GRUPO_CU:\", df[\"GRUPO_CU\"].unique())"
   ]
  },
  {
   "cell_type": "markdown",
   "id": "e7da9211",
   "metadata": {},
   "source": [
    "**CLIENTE_ID_UI**: Si bien el dataset ya vino con ciertos filtros desde el negocio por temas de privacidad y sensibilidad de la empresa, aun se tiene `CLIENTE_ID_UI` que trae puede traer información sensible 1 a 1 del cliente (Data Leakage)"
   ]
  },
  {
   "cell_type": "code",
   "execution_count": 28,
   "id": "894eb162",
   "metadata": {},
   "outputs": [],
   "source": [
    "FEATURES_TO_DELETE = ['TIPO_SERVICIO', 'GRUPO_CU', 'CLIENTE_ID_UI']\n",
    "df = df.drop(columns=FEATURES_TO_DELETE)"
   ]
  },
  {
   "cell_type": "markdown",
   "id": "c4a32819",
   "metadata": {},
   "source": [
    "---\n",
    "#### **Export del df** \n"
   ]
  },
  {
   "cell_type": "code",
   "execution_count": 29,
   "id": "e22dc81d",
   "metadata": {},
   "outputs": [],
   "source": [
    "route = './data/clientes_limpios.csv'\n",
    "df.to_csv(route, index=False, sep=';', encoding='utf-8')"
   ]
  }
 ],
 "metadata": {
  "kernelspec": {
   "display_name": "Python 3",
   "language": "python",
   "name": "python3"
  },
  "language_info": {
   "codemirror_mode": {
    "name": "ipython",
    "version": 3
   },
   "file_extension": ".py",
   "mimetype": "text/x-python",
   "name": "python",
   "nbconvert_exporter": "python",
   "pygments_lexer": "ipython3",
   "version": "3.11.3"
  }
 },
 "nbformat": 4,
 "nbformat_minor": 5
}
